{
 "cells": [
  {
   "cell_type": "markdown",
   "metadata": {},
   "source": [
    "# Scraping the FOIs of Coventry City Council"
   ]
  },
  {
   "cell_type": "code",
   "execution_count": 1,
   "metadata": {
    "executionInfo": {
     "elapsed": 621,
     "status": "ok",
     "timestamp": 1638730723768,
     "user": {
      "displayName": "Aidan O'Donnell",
      "photoUrl": "https://lh3.googleusercontent.com/a-/AOh14Gh3CYYgBn801fFAUfD2twE7i2f2MD-Tdgwsd8iSkg=s64",
      "userId": "01353573035188320738"
     },
     "user_tz": 0
    },
    "id": "2okQXK9PHFfY"
   },
   "outputs": [],
   "source": [
    "import requests\n",
    "from bs4 import BeautifulSoup as bs\n",
    "import time\n",
    "import random"
   ]
  },
  {
   "cell_type": "code",
   "execution_count": 2,
   "metadata": {
    "colab": {
     "base_uri": "https://localhost:8080/"
    },
    "executionInfo": {
     "elapsed": 19098,
     "status": "ok",
     "timestamp": 1638730783862,
     "user": {
      "displayName": "Aidan O'Donnell",
      "photoUrl": "https://lh3.googleusercontent.com/a-/AOh14Gh3CYYgBn801fFAUfD2twE7i2f2MD-Tdgwsd8iSkg=s64",
      "userId": "01353573035188320738"
     },
     "user_tz": 0
    },
    "id": "jYum4wSkHAEc",
    "outputId": "bab8a287-09ef-4d42-d7ac-2e2527b21352"
   },
   "outputs": [
    {
     "name": "stdout",
     "output_type": "stream",
     "text": [
      "one loop\n",
      "one loop\n",
      "one loop\n"
     ]
    }
   ],
   "source": [
    "\n",
    "pages = ['A','B','C']\n",
    "\n",
    "# we'll need this for assembling the full url below\n",
    "url_base = base = 'https://www.coventry.gov.uk'\n",
    "\n",
    "# we'll need somewhere to collect all the links\n",
    "full_list_of_links = []\n",
    "\n",
    "# assign your user agent to a variable\n",
    "s_headers = {'User-Agent': 'Mozilla/5.0 (Macintosh; Intel Mac OS X 10.13; rv:63.0) Gecko/20100101 Firefox/63.0'} \n",
    "\n",
    "for page in pages:\n",
    "\n",
    "  # \"verify=False\" this seemed to return a problem\n",
    "  # you need to supply the headers in the argument, the code expects: headers = some_variable\n",
    "  # we don't need to make this 'page' which we're already using for the loop ('for page in....')\n",
    "  req = requests.get(f'https://www.coventry.gov.uk/directory/45/a_to_z/{page}', headers = s_headers)\n",
    "  \n",
    "  # now we make the soup and parse it\n",
    "  soup = bs(req.content, 'html.parser')\n",
    "  for infoPage in soup.findAll('ul', class_='item-list'):\n",
    "      for x in infoPage.findAll('a'):\n",
    "\n",
    "        # this is how you will get the url without the rest of the text etc.\n",
    "        link_ending = x.attrs['href']\n",
    "\n",
    "        # stick the beginning of the url to what you've just collected (you could do this with an f-string too as you did)\n",
    "        full_link = base + link_ending\n",
    "        \n",
    "        # you could print each link, but let's collect them instead\n",
    "        # print(full_link)\n",
    "        full_list_of_links.append(full_link)\n",
    "\n",
    "  # you need the sleep METHOD from the time MODULE (they have to be imported above) - the argument is seconds so 120 is too long\n",
    "  # if you want to pick a number at random (4, 11) then you need the RANDOM module as well (import random)\n",
    "  time.sleep(4)\n",
    "  print('one loop') # just to keep track\n",
    "  # time.sleep(random.randint(4,11))"
   ]
  },
  {
   "cell_type": "code",
   "execution_count": 3,
   "metadata": {
    "colab": {
     "base_uri": "https://localhost:8080/"
    },
    "executionInfo": {
     "elapsed": 234,
     "status": "ok",
     "timestamp": 1638730786137,
     "user": {
      "displayName": "Aidan O'Donnell",
      "photoUrl": "https://lh3.googleusercontent.com/a-/AOh14Gh3CYYgBn801fFAUfD2twE7i2f2MD-Tdgwsd8iSkg=s64",
      "userId": "01353573035188320738"
     },
     "user_tz": 0
    },
    "id": "DMR6ILt8RGOW",
    "outputId": "cc02d7a1-e214-46fd-d927-254bc11a41aa"
   },
   "outputs": [
    {
     "name": "stdout",
     "output_type": "stream",
     "text": [
      "1509\n"
     ]
    }
   ],
   "source": [
    "print(len(full_list_of_links))"
   ]
  },
  {
   "cell_type": "code",
   "execution_count": null,
   "metadata": {
    "id": "HYfzpUP7NcB6"
   },
   "outputs": [],
   "source": [
    "for x in full_list_of_links:\n",
    "  print(x)"
   ]
  },
  {
   "cell_type": "markdown",
   "metadata": {
    "id": "OwgSNj-uKb-Y"
   },
   "source": [
    "## build a df from these links - or one of them to start with"
   ]
  },
  {
   "cell_type": "code",
   "execution_count": 6,
   "metadata": {
    "colab": {
     "base_uri": "https://localhost:8080/"
    },
    "executionInfo": {
     "elapsed": 890,
     "status": "ok",
     "timestamp": 1638731029395,
     "user": {
      "displayName": "Aidan O'Donnell",
      "photoUrl": "https://lh3.googleusercontent.com/a-/AOh14Gh3CYYgBn801fFAUfD2twE7i2f2MD-Tdgwsd8iSkg=s64",
      "userId": "01353573035188320738"
     },
     "user_tz": 0
    },
    "id": "yOwzc2cM-Qgd",
    "outputId": "f7dd7066-9a95-4da6-8bd6-5cdb302b62fc"
   },
   "outputs": [
    {
     "name": "stdout",
     "output_type": "stream",
     "text": [
      "200\n"
     ]
    }
   ],
   "source": [
    "# assign a single url from the list as the url to scrape next - to test it works with a single page\n",
    "\n",
    "url = full_list_of_links[4]\n",
    "print(url)\n",
    "\n",
    "req = requests.get(url, headers = s_headers)\n",
    "\n",
    "print(req.status_code)\n",
    "\n",
    "foi_soup = bs(req.content)"
   ]
  },
  {
   "cell_type": "code",
   "execution_count": 75,
   "metadata": {
    "colab": {
     "base_uri": "https://localhost:8080/"
    },
    "executionInfo": {
     "elapsed": 244,
     "status": "ok",
     "timestamp": 1638734184921,
     "user": {
      "displayName": "Aidan O'Donnell",
      "photoUrl": "https://lh3.googleusercontent.com/a-/AOh14Gh3CYYgBn801fFAUfD2twE7i2f2MD-Tdgwsd8iSkg=s64",
      "userId": "01353573035188320738"
     },
     "user_tz": 0
    },
    "id": "l-Xq1G5TEdoJ",
    "outputId": "e21e1aed-8729-4f33-bb40-d799830b5027"
   },
   "outputs": [
    {
     "name": "stdout",
     "output_type": "stream",
     "text": [
      "FOI and EIR requests - A45 North Bound outside lane road maintenance\n",
      "****\n",
      "Request reference\n",
      "REQ00978\n",
      "---\n",
      "Request date\n",
      "17 February 2016\n",
      "---\n",
      "Response date\n",
      "15 March 2016\n",
      "---\n",
      "Closed date\n",
      "15 March 2016\n",
      "---\n",
      "Category\n",
      "Parking, travel and streets\n",
      "---\n",
      "Outcome\n",
      "Some information provided\n",
      "---\n",
      "Response\n",
      "http://www.coventry.gov.uk/downloads/file/20276/req00978\n",
      "---\n"
     ]
    }
   ],
   "source": [
    "# parse the soup, just printing what's needed\n",
    "\n",
    "for x in foi_soup.find_all('h1'):\n",
    "  title = x.text\n",
    "  print(title)\n",
    "  print('****')\n",
    "\n",
    "for x in foi_soup.find_all('div', class_ = 'record_item'):\n",
    "    for y in x.find_all('h2'):\n",
    "      print(y.text)\n",
    "    for z in x.find_all('p'):\n",
    "      print(z.text)\n",
    "    print('---')\n",
    "\n",
    "# the 'h2' part doesn't change so it will be enough to collect all the Ps into a list and append"
   ]
  },
  {
   "cell_type": "code",
   "execution_count": 76,
   "metadata": {
    "executionInfo": {
     "elapsed": 297,
     "status": "ok",
     "timestamp": 1638734246520,
     "user": {
      "displayName": "Aidan O'Donnell",
      "photoUrl": "https://lh3.googleusercontent.com/a-/AOh14Gh3CYYgBn801fFAUfD2twE7i2f2MD-Tdgwsd8iSkg=s64",
      "userId": "01353573035188320738"
     },
     "user_tz": 0
    },
    "id": "ETzjrckhExxV"
   },
   "outputs": [],
   "source": [
    "# ultimately we'll need to build a list of lists, with each smaller list gathering from one url\n",
    "total_list = []\n",
    "\n",
    "# build a list from this single url\n",
    "some_list = []\n",
    "for x in foi_soup.find_all('h1'):\n",
    "  title = x.text\n",
    "  some_list.append(title)\n",
    "\n",
    "for x in foi_soup.find_all('div', class_ = 'record_item'):\n",
    "    for z in x.find_all('p'):\n",
    "      some_list.append(z.text)\n",
    "\n",
    "total_list.append(some_list)"
   ]
  },
  {
   "cell_type": "code",
   "execution_count": 77,
   "metadata": {
    "colab": {
     "base_uri": "https://localhost:8080/"
    },
    "executionInfo": {
     "elapsed": 216,
     "status": "ok",
     "timestamp": 1638734272819,
     "user": {
      "displayName": "Aidan O'Donnell",
      "photoUrl": "https://lh3.googleusercontent.com/a-/AOh14Gh3CYYgBn801fFAUfD2twE7i2f2MD-Tdgwsd8iSkg=s64",
      "userId": "01353573035188320738"
     },
     "user_tz": 0
    },
    "id": "dchecoRHKKiJ",
    "outputId": "f3f44e36-f1a1-4161-d431-c246d3b5c1a9"
   },
   "outputs": [
    {
     "data": {
      "text/plain": [
       "[['FOI and EIR requests - A45 North Bound outside lane road maintenance',\n",
       "  'REQ00978',\n",
       "  '17 February 2016',\n",
       "  '15 March 2016',\n",
       "  '15 March 2016',\n",
       "  'Parking, travel and streets',\n",
       "  'Some information provided',\n",
       "  'http://www.coventry.gov.uk/downloads/file/20276/req00978']]"
      ]
     },
     "execution_count": 77,
     "metadata": {},
     "output_type": "execute_result"
    }
   ],
   "source": [
    "# now it only has one list in it, but when we get all the urls it will be a list of lists\n",
    "total_list"
   ]
  },
  {
   "cell_type": "code",
   "execution_count": 78,
   "metadata": {
    "executionInfo": {
     "elapsed": 275,
     "status": "ok",
     "timestamp": 1638734293242,
     "user": {
      "displayName": "Aidan O'Donnell",
      "photoUrl": "https://lh3.googleusercontent.com/a-/AOh14Gh3CYYgBn801fFAUfD2twE7i2f2MD-Tdgwsd8iSkg=s64",
      "userId": "01353573035188320738"
     },
     "user_tz": 0
    },
    "id": "XmaJvkfzCdJ4"
   },
   "outputs": [],
   "source": [
    "import pandas as pd\n",
    "\n",
    "# define the column names\n",
    "my_columns = ['subject', 'ref', 'date_req', 'date_resp', 'closed_date', 'cat', 'outcome', 'link_pdf_page']\n",
    "\n",
    "# build the df from the list of lists\n",
    "dfl = pd.DataFrame(total_list, columns = my_columns)"
   ]
  },
  {
   "cell_type": "code",
   "execution_count": 79,
   "metadata": {
    "colab": {
     "base_uri": "https://localhost:8080/",
     "height": 98
    },
    "executionInfo": {
     "elapsed": 8,
     "status": "ok",
     "timestamp": 1638734294349,
     "user": {
      "displayName": "Aidan O'Donnell",
      "photoUrl": "https://lh3.googleusercontent.com/a-/AOh14Gh3CYYgBn801fFAUfD2twE7i2f2MD-Tdgwsd8iSkg=s64",
      "userId": "01353573035188320738"
     },
     "user_tz": 0
    },
    "id": "PLOsEkB0JUKl",
    "outputId": "a0012407-ecf3-4bd3-cc84-8e40244a371e"
   },
   "outputs": [
    {
     "data": {
      "text/html": [
       "<div>\n",
       "<style scoped>\n",
       "    .dataframe tbody tr th:only-of-type {\n",
       "        vertical-align: middle;\n",
       "    }\n",
       "\n",
       "    .dataframe tbody tr th {\n",
       "        vertical-align: top;\n",
       "    }\n",
       "\n",
       "    .dataframe thead th {\n",
       "        text-align: right;\n",
       "    }\n",
       "</style>\n",
       "<table border=\"1\" class=\"dataframe\">\n",
       "  <thead>\n",
       "    <tr style=\"text-align: right;\">\n",
       "      <th></th>\n",
       "      <th>subject</th>\n",
       "      <th>ref</th>\n",
       "      <th>date_req</th>\n",
       "      <th>date_resp</th>\n",
       "      <th>closed_date</th>\n",
       "      <th>cat</th>\n",
       "      <th>outcome</th>\n",
       "      <th>link_pdf_page</th>\n",
       "    </tr>\n",
       "  </thead>\n",
       "  <tbody>\n",
       "    <tr>\n",
       "      <th>0</th>\n",
       "      <td>FOI and EIR requests - A45 North Bound outside...</td>\n",
       "      <td>REQ00978</td>\n",
       "      <td>17 February 2016</td>\n",
       "      <td>15 March 2016</td>\n",
       "      <td>15 March 2016</td>\n",
       "      <td>Parking, travel and streets</td>\n",
       "      <td>Some information provided</td>\n",
       "      <td>http://www.coventry.gov.uk/downloads/file/2027...</td>\n",
       "    </tr>\n",
       "  </tbody>\n",
       "</table>\n",
       "</div>"
      ],
      "text/plain": [
       "                                             subject  ...                                      link_pdf_page\n",
       "0  FOI and EIR requests - A45 North Bound outside...  ...  http://www.coventry.gov.uk/downloads/file/2027...\n",
       "\n",
       "[1 rows x 8 columns]"
      ]
     },
     "execution_count": 79,
     "metadata": {},
     "output_type": "execute_result"
    }
   ],
   "source": [
    "dfl"
   ]
  },
  {
   "cell_type": "code",
   "execution_count": null,
   "metadata": {
    "id": "yik2tp6EKX4c"
   },
   "outputs": [],
   "source": []
  }
 ],
 "metadata": {
  "colab": {
   "authorship_tag": "ABX9TyPBWH7pBC+m17e3rb+af78Y",
   "collapsed_sections": [],
   "name": "coventry_scrape.ipynb",
   "provenance": []
  },
  "kernelspec": {
   "display_name": "Python 3 (ipykernel)",
   "language": "python",
   "name": "python3"
  },
  "language_info": {
   "codemirror_mode": {
    "name": "ipython",
    "version": 3
   },
   "file_extension": ".py",
   "mimetype": "text/x-python",
   "name": "python",
   "nbconvert_exporter": "python",
   "pygments_lexer": "ipython3",
   "version": "3.9.7"
  }
 },
 "nbformat": 4,
 "nbformat_minor": 1
}
